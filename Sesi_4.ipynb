{
 "cells": [
  {
   "cell_type": "markdown",
   "id": "5ba5fa3f",
   "metadata": {},
   "source": [
    "# Python for Data Science // S.4 // Numpy // PYTN-KS09\n",
    "---"
   ]
  },
  {
   "cell_type": "code",
   "execution_count": 2,
   "id": "2bd0717b",
   "metadata": {},
   "outputs": [],
   "source": [
    "import numpy as np"
   ]
  },
  {
   "cell_type": "code",
   "execution_count": 2,
   "id": "add112c4",
   "metadata": {},
   "outputs": [],
   "source": [
    "angka = [1, 2, 3]"
   ]
  },
  {
   "cell_type": "code",
   "execution_count": 3,
   "id": "bde68c2c",
   "metadata": {},
   "outputs": [],
   "source": [
    "angkanp = np.array(angka)"
   ]
  },
  {
   "cell_type": "code",
   "execution_count": 4,
   "id": "5fb45454",
   "metadata": {},
   "outputs": [
    {
     "data": {
      "text/plain": [
       "array([1, 2, 3])"
      ]
     },
     "execution_count": 4,
     "metadata": {},
     "output_type": "execute_result"
    }
   ],
   "source": [
    "angkanp"
   ]
  },
  {
   "cell_type": "code",
   "execution_count": 5,
   "id": "e7e167ff",
   "metadata": {},
   "outputs": [
    {
     "data": {
      "text/plain": [
       "[1, 2, 3, 1, 2, 3, 1, 2, 3]"
      ]
     },
     "execution_count": 5,
     "metadata": {},
     "output_type": "execute_result"
    }
   ],
   "source": [
    "angka * 3"
   ]
  },
  {
   "cell_type": "code",
   "execution_count": 6,
   "id": "d93e2a27",
   "metadata": {},
   "outputs": [
    {
     "data": {
      "text/plain": [
       "array([3, 6, 9])"
      ]
     },
     "execution_count": 6,
     "metadata": {},
     "output_type": "execute_result"
    }
   ],
   "source": [
    "angkanp * 3"
   ]
  },
  {
   "cell_type": "code",
   "execution_count": 7,
   "id": "c6c47e3f",
   "metadata": {},
   "outputs": [
    {
     "data": {
      "text/plain": [
       "[[1, 2, 3], [4, 5, 6], [7, 8, 9]]"
      ]
     },
     "execution_count": 7,
     "metadata": {},
     "output_type": "execute_result"
    }
   ],
   "source": [
    "versilist = [[1, 2, 3], [4, 5, 6], [7, 8, 9]]\n",
    "versilist"
   ]
  },
  {
   "cell_type": "code",
   "execution_count": 8,
   "id": "e8fedc95",
   "metadata": {},
   "outputs": [
    {
     "data": {
      "text/plain": [
       "array([[1, 2, 3],\n",
       "       [4, 5, 6],\n",
       "       [7, 8, 9]])"
      ]
     },
     "execution_count": 8,
     "metadata": {},
     "output_type": "execute_result"
    }
   ],
   "source": [
    "versinumpy = np.array(versilist)\n",
    "versinumpy"
   ]
  },
  {
   "cell_type": "code",
   "execution_count": 10,
   "id": "f6d9b716",
   "metadata": {},
   "outputs": [
    {
     "data": {
      "text/plain": [
       "array([ 0,  1,  2,  3,  4,  5,  6,  7,  8,  9, 10])"
      ]
     },
     "execution_count": 10,
     "metadata": {},
     "output_type": "execute_result"
    }
   ],
   "source": [
    "np.arange(0, 11)"
   ]
  },
  {
   "cell_type": "code",
   "execution_count": 11,
   "id": "1c53ae07",
   "metadata": {},
   "outputs": [
    {
     "data": {
      "text/plain": [
       "array([ 0,  3,  6,  9, 12, 15, 18])"
      ]
     },
     "execution_count": 11,
     "metadata": {},
     "output_type": "execute_result"
    }
   ],
   "source": [
    "np.arange(0, 20, 3)"
   ]
  },
  {
   "cell_type": "code",
   "execution_count": 12,
   "id": "6d9f8e1e",
   "metadata": {},
   "outputs": [
    {
     "data": {
      "text/plain": [
       "array([0., 0., 0., 0., 0.])"
      ]
     },
     "execution_count": 12,
     "metadata": {},
     "output_type": "execute_result"
    }
   ],
   "source": [
    "np.zeros(5)"
   ]
  },
  {
   "cell_type": "code",
   "execution_count": 13,
   "id": "e2ca29ed",
   "metadata": {},
   "outputs": [
    {
     "data": {
      "text/plain": [
       "array([[0., 0., 0., 0.],\n",
       "       [0., 0., 0., 0.]])"
      ]
     },
     "execution_count": 13,
     "metadata": {},
     "output_type": "execute_result"
    }
   ],
   "source": [
    "np.zeros((2, 4))"
   ]
  },
  {
   "cell_type": "code",
   "execution_count": 14,
   "id": "5c711a7c",
   "metadata": {},
   "outputs": [
    {
     "data": {
      "text/plain": [
       "array([1., 1., 1., 1., 1.])"
      ]
     },
     "execution_count": 14,
     "metadata": {},
     "output_type": "execute_result"
    }
   ],
   "source": [
    "np.ones(5)"
   ]
  },
  {
   "cell_type": "code",
   "execution_count": 17,
   "id": "3ab0c349",
   "metadata": {},
   "outputs": [
    {
     "data": {
      "text/plain": [
       "array([[1., 1., 1., 1.],\n",
       "       [1., 1., 1., 1.]])"
      ]
     },
     "execution_count": 17,
     "metadata": {},
     "output_type": "execute_result"
    }
   ],
   "source": [
    "np.ones((2, 4)) #Array 2 dimensi"
   ]
  },
  {
   "cell_type": "code",
   "execution_count": 18,
   "id": "0777476f",
   "metadata": {},
   "outputs": [
    {
     "data": {
      "text/plain": [
       "array([0.        , 0.88888889, 1.77777778, 2.66666667, 3.55555556,\n",
       "       4.44444444, 5.33333333, 6.22222222, 7.11111111, 8.        ])"
      ]
     },
     "execution_count": 18,
     "metadata": {},
     "output_type": "execute_result"
    }
   ],
   "source": [
    "np.linspace(0, 8, 10) #membuat array dari 0 sampai 8, akan dipecah sebanyak 10 pecahan, dimana \\\n",
    "                      #jarak antar tiap pecahan itu sama besar\n",
    "                      #array satu dimensi"
   ]
  },
  {
   "cell_type": "markdown",
   "id": "5e87db49",
   "metadata": {},
   "source": [
    "## identify matrix"
   ]
  },
  {
   "cell_type": "code",
   "execution_count": 19,
   "id": "6d756bf7",
   "metadata": {},
   "outputs": [
    {
     "data": {
      "text/plain": [
       "array([[1., 0., 0., 0., 0.],\n",
       "       [0., 1., 0., 0., 0.],\n",
       "       [0., 0., 1., 0., 0.],\n",
       "       [0., 0., 0., 1., 0.],\n",
       "       [0., 0., 0., 0., 1.]])"
      ]
     },
     "execution_count": 19,
     "metadata": {},
     "output_type": "execute_result"
    }
   ],
   "source": [
    "np.eye(5)"
   ]
  },
  {
   "cell_type": "code",
   "execution_count": 21,
   "id": "fe5de781",
   "metadata": {},
   "outputs": [
    {
     "data": {
      "text/plain": [
       "array([0.02373306, 0.49416764, 0.08744657, 0.80536422, 0.30818563,\n",
       "       0.99205839, 0.6030283 ])"
      ]
     },
     "execution_count": 21,
     "metadata": {},
     "output_type": "execute_result"
    }
   ],
   "source": [
    "#bilangan distribusi uniform\n",
    "np.random.rand(7)"
   ]
  },
  {
   "cell_type": "code",
   "execution_count": 22,
   "id": "73225f76",
   "metadata": {},
   "outputs": [
    {
     "data": {
      "text/plain": [
       "array([[0.40991158, 0.45322695, 0.92945083, 0.29734908],\n",
       "       [0.88674361, 0.49254632, 0.42583464, 0.82261828],\n",
       "       [0.26673014, 0.73386794, 0.01744532, 0.97465407],\n",
       "       [0.0026449 , 0.77944545, 0.35497429, 0.488059  ],\n",
       "       [0.21505581, 0.39719984, 0.70680279, 0.68840411]])"
      ]
     },
     "execution_count": 22,
     "metadata": {},
     "output_type": "execute_result"
    }
   ],
   "source": [
    "#bilangan distribusi uniform 2 dimensi\n",
    "np.random.rand(5, 4)"
   ]
  },
  {
   "cell_type": "code",
   "execution_count": 23,
   "id": "7fbcf277",
   "metadata": {},
   "outputs": [
    {
     "data": {
      "text/plain": [
       "array([ 1.33104987, -3.47190095,  0.63689899, -2.40913154, -1.11832911,\n",
       "        0.03147012,  1.14855367,  0.69360815,  0.64958357, -0.72140892])"
      ]
     },
     "execution_count": 23,
     "metadata": {},
     "output_type": "execute_result"
    }
   ],
   "source": [
    "#bilangan distribusi normal (gaussian), dari -tak hingga sampai tak hingga\n",
    "np.random.randn(10)"
   ]
  },
  {
   "cell_type": "code",
   "execution_count": 24,
   "id": "ff219034",
   "metadata": {},
   "outputs": [
    {
     "data": {
      "text/plain": [
       "array([[-0.26352304, -0.66112666,  0.58581741,  0.4064439 ],\n",
       "       [-1.49072929,  1.27040082, -1.7418723 , -0.24084515],\n",
       "       [ 0.10269437,  1.39069471, -0.22918999,  0.61481803],\n",
       "       [ 1.44088738, -1.36234128, -0.00710141,  0.46851029]])"
      ]
     },
     "execution_count": 24,
     "metadata": {},
     "output_type": "execute_result"
    }
   ],
   "source": [
    "#bilangan distribusi normal (gaussian) 2 dimensi\n",
    "np.random.randn(4, 4)"
   ]
  },
  {
   "cell_type": "code",
   "execution_count": 34,
   "id": "0a7e7fab",
   "metadata": {},
   "outputs": [],
   "source": [
    "from numpy.random import rand, randn, randint"
   ]
  },
  {
   "cell_type": "code",
   "execution_count": 26,
   "id": "a3dfbb25",
   "metadata": {},
   "outputs": [
    {
     "data": {
      "text/plain": [
       "array([[-0.92359767,  0.06636444],\n",
       "       [-0.49468568,  1.05417949],\n",
       "       [-0.11612129, -0.67363554],\n",
       "       [-0.21055649, -0.49262304],\n",
       "       [-0.79171091, -0.23419949],\n",
       "       [ 0.07159664,  0.36553495]])"
      ]
     },
     "execution_count": 26,
     "metadata": {},
     "output_type": "execute_result"
    }
   ],
   "source": [
    "randn(6, 2)"
   ]
  },
  {
   "cell_type": "code",
   "execution_count": 29,
   "id": "0db76404",
   "metadata": {},
   "outputs": [
    {
     "data": {
      "text/plain": [
       "array([5, 0, 1, 0, 1])"
      ]
     },
     "execution_count": 29,
     "metadata": {},
     "output_type": "execute_result"
    }
   ],
   "source": [
    "randint(0,10,5)  #bilangan array integer"
   ]
  },
  {
   "cell_type": "code",
   "execution_count": 30,
   "id": "c9bc885a",
   "metadata": {},
   "outputs": [],
   "source": [
    "bilangan = randint(0,100,20)"
   ]
  },
  {
   "cell_type": "code",
   "execution_count": 31,
   "id": "01421628",
   "metadata": {},
   "outputs": [
    {
     "data": {
      "text/plain": [
       "array([ 8, 62, 32, 65, 90, 82, 84, 16, 26, 11, 20,  8, 94, 85, 51, 69, 28,\n",
       "       78, 13, 66])"
      ]
     },
     "execution_count": 31,
     "metadata": {},
     "output_type": "execute_result"
    }
   ],
   "source": [
    "bilangan"
   ]
  },
  {
   "cell_type": "code",
   "execution_count": 32,
   "id": "a9e5a796",
   "metadata": {},
   "outputs": [
    {
     "data": {
      "text/plain": [
       "array([[ 8, 62, 32, 65, 90],\n",
       "       [82, 84, 16, 26, 11],\n",
       "       [20,  8, 94, 85, 51],\n",
       "       [69, 28, 78, 13, 66]])"
      ]
     },
     "execution_count": 32,
     "metadata": {},
     "output_type": "execute_result"
    }
   ],
   "source": [
    "bilangan.reshape(4,5) #mengubah menjadi matriks 2 dimensi\n",
    "                      #ukuran baris kolom harus pecahan dari jumlah angka pada bilangan"
   ]
  },
  {
   "cell_type": "code",
   "execution_count": 33,
   "id": "2276b959",
   "metadata": {},
   "outputs": [
    {
     "data": {
      "text/plain": [
       "array([[ 8, 62, 32, 65, 90, 82, 84, 16, 26, 11],\n",
       "       [20,  8, 94, 85, 51, 69, 28, 78, 13, 66]])"
      ]
     },
     "execution_count": 33,
     "metadata": {},
     "output_type": "execute_result"
    }
   ],
   "source": [
    "bilangan.reshape(2,10)"
   ]
  },
  {
   "cell_type": "code",
   "execution_count": 35,
   "id": "1da9e0aa",
   "metadata": {},
   "outputs": [
    {
     "data": {
      "text/plain": [
       "array([1, 1, 2, 0, 0])"
      ]
     },
     "execution_count": 35,
     "metadata": {},
     "output_type": "execute_result"
    }
   ],
   "source": [
    "randint(0, 3, 5)"
   ]
  },
  {
   "cell_type": "code",
   "execution_count": 36,
   "id": "79fd61cc",
   "metadata": {},
   "outputs": [
    {
     "data": {
      "text/plain": [
       "array([5, 1, 9, 4, 2, 3, 8, 3, 3, 8, 8, 5, 4, 5, 1, 3, 7, 1, 8, 3, 0, 0,\n",
       "       9, 4, 3])"
      ]
     },
     "execution_count": 36,
     "metadata": {},
     "output_type": "execute_result"
    }
   ],
   "source": [
    "randint(0, 10, 25)"
   ]
  },
  {
   "cell_type": "code",
   "execution_count": 39,
   "id": "4a4ec9e1",
   "metadata": {},
   "outputs": [],
   "source": [
    "coba = randint(0, 10, 20).reshape(5, 4)"
   ]
  },
  {
   "cell_type": "code",
   "execution_count": 1,
   "id": "89eeaa70",
   "metadata": {},
   "outputs": [
    {
     "ename": "NameError",
     "evalue": "name 'coba' is not defined",
     "output_type": "error",
     "traceback": [
      "\u001b[1;31m---------------------------------------------------------------------------\u001b[0m",
      "\u001b[1;31mNameError\u001b[0m                                 Traceback (most recent call last)",
      "Input \u001b[1;32mIn [1]\u001b[0m, in \u001b[0;36m<cell line: 1>\u001b[1;34m()\u001b[0m\n\u001b[1;32m----> 1\u001b[0m \u001b[43mcoba\u001b[49m\n",
      "\u001b[1;31mNameError\u001b[0m: name 'coba' is not defined"
     ]
    }
   ],
   "source": [
    "coba"
   ]
  },
  {
   "cell_type": "code",
   "execution_count": 41,
   "id": "3f55e1e2",
   "metadata": {},
   "outputs": [
    {
     "data": {
      "text/plain": [
       "array([[3, 3, 8, 7, 4, 0, 0, 1, 1, 7],\n",
       "       [6, 3, 8, 1, 2, 8, 9, 3, 5, 3]])"
      ]
     },
     "execution_count": 41,
     "metadata": {},
     "output_type": "execute_result"
    }
   ],
   "source": [
    "coba.reshape(2, 10)          #hanya menunjukan ilustrasi"
   ]
  },
  {
   "cell_type": "code",
   "execution_count": 42,
   "id": "e1de9f23",
   "metadata": {},
   "outputs": [
    {
     "data": {
      "text/plain": [
       "array([[3, 3, 8, 7],\n",
       "       [4, 0, 0, 1],\n",
       "       [1, 7, 6, 3],\n",
       "       [8, 1, 2, 8],\n",
       "       [9, 3, 5, 3]])"
      ]
     },
     "execution_count": 42,
     "metadata": {},
     "output_type": "execute_result"
    }
   ],
   "source": [
    "coba"
   ]
  },
  {
   "cell_type": "code",
   "execution_count": 43,
   "id": "b389911a",
   "metadata": {},
   "outputs": [],
   "source": [
    "coba = coba.reshape(2, 10)"
   ]
  },
  {
   "cell_type": "code",
   "execution_count": 44,
   "id": "18cd5acb",
   "metadata": {},
   "outputs": [
    {
     "data": {
      "text/plain": [
       "array([[3, 3, 8, 7, 4, 0, 0, 1, 1, 7],\n",
       "       [6, 3, 8, 1, 2, 8, 9, 3, 5, 3]])"
      ]
     },
     "execution_count": 44,
     "metadata": {},
     "output_type": "execute_result"
    }
   ],
   "source": [
    "coba"
   ]
  },
  {
   "cell_type": "code",
   "execution_count": 45,
   "id": "1eff42d6",
   "metadata": {},
   "outputs": [],
   "source": [
    "coba1d = randint(0, 100, 20)"
   ]
  },
  {
   "cell_type": "code",
   "execution_count": 46,
   "id": "9089c4ac",
   "metadata": {},
   "outputs": [],
   "source": [
    "coba2d = randint(0, 100, 20).reshape(4, 5)"
   ]
  },
  {
   "cell_type": "code",
   "execution_count": 47,
   "id": "df4fdd8a",
   "metadata": {},
   "outputs": [
    {
     "data": {
      "text/plain": [
       "array([51, 47, 63, 18, 38, 60, 21, 63, 34, 80, 56, 38, 54, 12, 49, 59, 18,\n",
       "       62, 30, 75])"
      ]
     },
     "execution_count": 47,
     "metadata": {},
     "output_type": "execute_result"
    }
   ],
   "source": [
    "coba1d"
   ]
  },
  {
   "cell_type": "code",
   "execution_count": 48,
   "id": "e162aad2",
   "metadata": {},
   "outputs": [
    {
     "data": {
      "text/plain": [
       "array([[72, 46, 45,  4, 88],\n",
       "       [16,  6,  9, 15, 42],\n",
       "       [55, 50, 31,  5, 17],\n",
       "       [13, 19, 69, 30, 89]])"
      ]
     },
     "execution_count": 48,
     "metadata": {},
     "output_type": "execute_result"
    }
   ],
   "source": [
    "coba2d"
   ]
  },
  {
   "cell_type": "code",
   "execution_count": 49,
   "id": "c32e9013",
   "metadata": {},
   "outputs": [
    {
     "data": {
      "text/plain": [
       "80"
      ]
     },
     "execution_count": 49,
     "metadata": {},
     "output_type": "execute_result"
    }
   ],
   "source": [
    "coba1d.max()"
   ]
  },
  {
   "cell_type": "code",
   "execution_count": 51,
   "id": "c1a4b478",
   "metadata": {},
   "outputs": [
    {
     "data": {
      "text/plain": [
       "89"
      ]
     },
     "execution_count": 51,
     "metadata": {},
     "output_type": "execute_result"
    }
   ],
   "source": [
    "coba2d.max()"
   ]
  },
  {
   "cell_type": "code",
   "execution_count": 52,
   "id": "5d5cf51c",
   "metadata": {},
   "outputs": [
    {
     "data": {
      "text/plain": [
       "12"
      ]
     },
     "execution_count": 52,
     "metadata": {},
     "output_type": "execute_result"
    }
   ],
   "source": [
    "coba1d.min()"
   ]
  },
  {
   "cell_type": "code",
   "execution_count": 53,
   "id": "1048ef04",
   "metadata": {},
   "outputs": [
    {
     "data": {
      "text/plain": [
       "4"
      ]
     },
     "execution_count": 53,
     "metadata": {},
     "output_type": "execute_result"
    }
   ],
   "source": [
    "coba2d.min()"
   ]
  },
  {
   "cell_type": "code",
   "execution_count": 54,
   "id": "f554d0a5",
   "metadata": {},
   "outputs": [
    {
     "data": {
      "text/plain": [
       "9"
      ]
     },
     "execution_count": 54,
     "metadata": {},
     "output_type": "execute_result"
    }
   ],
   "source": [
    "coba1d.argmax() #untuk mengetahui indeks ke berapa menunjukan angka paling besar"
   ]
  },
  {
   "cell_type": "code",
   "execution_count": 55,
   "id": "b809d70a",
   "metadata": {},
   "outputs": [
    {
     "data": {
      "text/plain": [
       "19"
      ]
     },
     "execution_count": 55,
     "metadata": {},
     "output_type": "execute_result"
    }
   ],
   "source": [
    "coba2d.argmax() #untuk mengetahui indeks ke berapa menunjukan angka paling besar"
   ]
  },
  {
   "cell_type": "code",
   "execution_count": 56,
   "id": "3fc0f374",
   "metadata": {},
   "outputs": [
    {
     "data": {
      "text/plain": [
       "13"
      ]
     },
     "execution_count": 56,
     "metadata": {},
     "output_type": "execute_result"
    }
   ],
   "source": [
    "coba1d.argmin() #untuk mengetahui indeks ke berapa menunjukan angka paling kecil"
   ]
  },
  {
   "cell_type": "code",
   "execution_count": 57,
   "id": "d1999178",
   "metadata": {},
   "outputs": [
    {
     "data": {
      "text/plain": [
       "3"
      ]
     },
     "execution_count": 57,
     "metadata": {},
     "output_type": "execute_result"
    }
   ],
   "source": [
    "coba2d.argmin() #untuk mengetahui indeks ke berapa menunjukan angka paling kecil"
   ]
  },
  {
   "cell_type": "code",
   "execution_count": 58,
   "id": "d60894cb",
   "metadata": {},
   "outputs": [
    {
     "data": {
      "text/plain": [
       "(20,)"
      ]
     },
     "execution_count": 58,
     "metadata": {},
     "output_type": "execute_result"
    }
   ],
   "source": [
    "coba1d.shape"
   ]
  },
  {
   "cell_type": "code",
   "execution_count": 61,
   "id": "d3f64358",
   "metadata": {},
   "outputs": [
    {
     "data": {
      "text/plain": [
       "(4, 5)"
      ]
     },
     "execution_count": 61,
     "metadata": {},
     "output_type": "execute_result"
    }
   ],
   "source": [
    "coba2d.shape #tidak memakai tanda kurung karena hanya memanggil fungsi\n",
    "             # untuk mengetahui ukuran matriks"
   ]
  },
  {
   "cell_type": "code",
   "execution_count": 63,
   "id": "23f0b727",
   "metadata": {},
   "outputs": [
    {
     "data": {
      "text/plain": [
       "dtype('int32')"
      ]
     },
     "execution_count": 63,
     "metadata": {},
     "output_type": "execute_result"
    }
   ],
   "source": [
    "coba1d.dtype # untuk mengetahui tipe data"
   ]
  },
  {
   "cell_type": "code",
   "execution_count": 64,
   "id": "576b03f8",
   "metadata": {},
   "outputs": [
    {
     "data": {
      "text/plain": [
       "dtype('int32')"
      ]
     },
     "execution_count": 64,
     "metadata": {},
     "output_type": "execute_result"
    }
   ],
   "source": [
    "coba2d.dtype # untuk mengetahui tipe data"
   ]
  },
  {
   "cell_type": "markdown",
   "id": "462befd0",
   "metadata": {},
   "source": [
    "## Indexing di NumPy"
   ]
  },
  {
   "cell_type": "code",
   "execution_count": 65,
   "id": "5a7dc94c",
   "metadata": {},
   "outputs": [],
   "source": [
    "import numpy as np"
   ]
  },
  {
   "cell_type": "code",
   "execution_count": 67,
   "id": "4a077856",
   "metadata": {},
   "outputs": [],
   "source": [
    "coba = np.arange(0,11)"
   ]
  },
  {
   "cell_type": "code",
   "execution_count": 68,
   "id": "cd474628",
   "metadata": {},
   "outputs": [
    {
     "data": {
      "text/plain": [
       "array([ 0,  1,  2,  3,  4,  5,  6,  7,  8,  9, 10])"
      ]
     },
     "execution_count": 68,
     "metadata": {},
     "output_type": "execute_result"
    }
   ],
   "source": [
    "coba"
   ]
  },
  {
   "cell_type": "code",
   "execution_count": 69,
   "id": "4b435db1",
   "metadata": {},
   "outputs": [
    {
     "data": {
      "text/plain": [
       "6"
      ]
     },
     "execution_count": 69,
     "metadata": {},
     "output_type": "execute_result"
    }
   ],
   "source": [
    "coba[6] # mengambil indeks ke-6"
   ]
  },
  {
   "cell_type": "code",
   "execution_count": 70,
   "id": "be6a26c3",
   "metadata": {},
   "outputs": [
    {
     "data": {
      "text/plain": [
       "array([ 5,  6,  7,  8,  9, 10])"
      ]
     },
     "execution_count": 70,
     "metadata": {},
     "output_type": "execute_result"
    }
   ],
   "source": [
    "coba[5:]"
   ]
  },
  {
   "cell_type": "code",
   "execution_count": 71,
   "id": "c959bdf0",
   "metadata": {},
   "outputs": [
    {
     "data": {
      "text/plain": [
       "array([5, 6, 7, 8])"
      ]
     },
     "execution_count": 71,
     "metadata": {},
     "output_type": "execute_result"
    }
   ],
   "source": [
    "coba[5:9]"
   ]
  },
  {
   "cell_type": "code",
   "execution_count": 72,
   "id": "c6e4a2da",
   "metadata": {},
   "outputs": [
    {
     "data": {
      "text/plain": [
       "array([0, 1, 2, 3, 4, 5, 6, 7, 8])"
      ]
     },
     "execution_count": 72,
     "metadata": {},
     "output_type": "execute_result"
    }
   ],
   "source": [
    "coba[:9]"
   ]
  },
  {
   "cell_type": "code",
   "execution_count": 73,
   "id": "8340d1cc",
   "metadata": {},
   "outputs": [],
   "source": [
    "coba2 = coba[:6]"
   ]
  },
  {
   "cell_type": "code",
   "execution_count": 74,
   "id": "bff0a6be",
   "metadata": {},
   "outputs": [
    {
     "data": {
      "text/plain": [
       "array([0, 1, 2, 3, 4, 5])"
      ]
     },
     "execution_count": 74,
     "metadata": {},
     "output_type": "execute_result"
    }
   ],
   "source": [
    "coba2"
   ]
  },
  {
   "cell_type": "code",
   "execution_count": 75,
   "id": "5ab4f979",
   "metadata": {},
   "outputs": [],
   "source": [
    "coba2[:] = 100"
   ]
  },
  {
   "cell_type": "code",
   "execution_count": 76,
   "id": "fcec8f02",
   "metadata": {},
   "outputs": [
    {
     "data": {
      "text/plain": [
       "array([100, 100, 100, 100, 100, 100])"
      ]
     },
     "execution_count": 76,
     "metadata": {},
     "output_type": "execute_result"
    }
   ],
   "source": [
    "coba2"
   ]
  },
  {
   "cell_type": "markdown",
   "id": "9ff1d120",
   "metadata": {},
   "source": [
    "## perlu latihan lagi"
   ]
  },
  {
   "cell_type": "code",
   "execution_count": 78,
   "id": "4264c06c",
   "metadata": {},
   "outputs": [],
   "source": [
    "coba2 = coba.copy #agar tidak mengubah nilai pada variabel"
   ]
  },
  {
   "cell_type": "code",
   "execution_count": 77,
   "id": "a20adfb6",
   "metadata": {},
   "outputs": [
    {
     "data": {
      "text/plain": [
       "array([100, 100, 100, 100, 100, 100,   6,   7,   8,   9,  10])"
      ]
     },
     "execution_count": 77,
     "metadata": {},
     "output_type": "execute_result"
    }
   ],
   "source": [
    "coba"
   ]
  },
  {
   "cell_type": "code",
   "execution_count": 84,
   "id": "8e25a6c4",
   "metadata": {},
   "outputs": [
    {
     "data": {
      "text/plain": [
       "array([100, 100, 100, 100, 100, 100,   6,   7,   8,   9,  10])"
      ]
     },
     "execution_count": 84,
     "metadata": {},
     "output_type": "execute_result"
    }
   ],
   "source": [
    "coba"
   ]
  },
  {
   "cell_type": "code",
   "execution_count": 85,
   "id": "cc24aa5b",
   "metadata": {},
   "outputs": [],
   "source": [
    "coba2 = coba[:6]"
   ]
  },
  {
   "cell_type": "code",
   "execution_count": 86,
   "id": "31a2b2e6",
   "metadata": {},
   "outputs": [
    {
     "data": {
      "text/plain": [
       "array([100, 100, 100, 100, 100, 100])"
      ]
     },
     "execution_count": 86,
     "metadata": {},
     "output_type": "execute_result"
    }
   ],
   "source": [
    "coba2"
   ]
  },
  {
   "cell_type": "code",
   "execution_count": 87,
   "id": "adc22480",
   "metadata": {},
   "outputs": [],
   "source": [
    "coba2[:] = 200"
   ]
  },
  {
   "cell_type": "code",
   "execution_count": 88,
   "id": "6ae5b6b0",
   "metadata": {},
   "outputs": [
    {
     "data": {
      "text/plain": [
       "array([200, 200, 200, 200, 200, 200])"
      ]
     },
     "execution_count": 88,
     "metadata": {},
     "output_type": "execute_result"
    }
   ],
   "source": [
    "coba2"
   ]
  },
  {
   "cell_type": "code",
   "execution_count": 89,
   "id": "6dc790de",
   "metadata": {},
   "outputs": [
    {
     "data": {
      "text/plain": [
       "array([200, 200, 200, 200, 200, 200,   6,   7,   8,   9,  10])"
      ]
     },
     "execution_count": 89,
     "metadata": {},
     "output_type": "execute_result"
    }
   ],
   "source": [
    "coba"
   ]
  },
  {
   "cell_type": "code",
   "execution_count": 96,
   "id": "f39d9d27",
   "metadata": {},
   "outputs": [],
   "source": [
    "bil2d = np.array([[1, 2, 3], [4, 5, 6], [7, 8, 9]])"
   ]
  },
  {
   "cell_type": "code",
   "execution_count": 97,
   "id": "6c329206",
   "metadata": {},
   "outputs": [
    {
     "data": {
      "text/plain": [
       "array([[1, 2, 3],\n",
       "       [4, 5, 6],\n",
       "       [7, 8, 9]])"
      ]
     },
     "execution_count": 97,
     "metadata": {},
     "output_type": "execute_result"
    }
   ],
   "source": [
    "bil2d"
   ]
  },
  {
   "cell_type": "code",
   "execution_count": 98,
   "id": "a06c9407",
   "metadata": {},
   "outputs": [
    {
     "data": {
      "text/plain": [
       "1"
      ]
     },
     "execution_count": 98,
     "metadata": {},
     "output_type": "execute_result"
    }
   ],
   "source": [
    "bil2d[0][0] #diikuti dengan baris ke berapa dan kolom ke berapa\n",
    "            # cara indeks"
   ]
  },
  {
   "cell_type": "code",
   "execution_count": 101,
   "id": "f2119d6e",
   "metadata": {},
   "outputs": [
    {
     "data": {
      "text/plain": [
       "array([4, 5, 6])"
      ]
     },
     "execution_count": 101,
     "metadata": {},
     "output_type": "execute_result"
    }
   ],
   "source": [
    "bild2d[1] #menyatakan indeks baris"
   ]
  },
  {
   "cell_type": "code",
   "execution_count": 102,
   "id": "30342980",
   "metadata": {},
   "outputs": [
    {
     "data": {
      "text/plain": [
       "9"
      ]
     },
     "execution_count": 102,
     "metadata": {},
     "output_type": "execute_result"
    }
   ],
   "source": [
    "bil2d[2][2]"
   ]
  },
  {
   "cell_type": "markdown",
   "id": "869338c5",
   "metadata": {},
   "source": [
    "## Slicing NumPy yang direkomendasikan"
   ]
  },
  {
   "cell_type": "code",
   "execution_count": 103,
   "id": "da2468ce",
   "metadata": {},
   "outputs": [
    {
     "data": {
      "text/plain": [
       "9"
      ]
     },
     "execution_count": 103,
     "metadata": {},
     "output_type": "execute_result"
    }
   ],
   "source": [
    "bil2d[2, 2]"
   ]
  },
  {
   "cell_type": "code",
   "execution_count": 104,
   "id": "dfc6cd44",
   "metadata": {},
   "outputs": [
    {
     "data": {
      "text/plain": [
       "1"
      ]
     },
     "execution_count": 104,
     "metadata": {},
     "output_type": "execute_result"
    }
   ],
   "source": [
    "bil2d[0, 0]"
   ]
  },
  {
   "cell_type": "code",
   "execution_count": 105,
   "id": "ff704500",
   "metadata": {},
   "outputs": [
    {
     "data": {
      "text/plain": [
       "array([[1, 2, 3],\n",
       "       [4, 5, 6],\n",
       "       [7, 8, 9]])"
      ]
     },
     "execution_count": 105,
     "metadata": {},
     "output_type": "execute_result"
    }
   ],
   "source": [
    "bil2d"
   ]
  },
  {
   "cell_type": "code",
   "execution_count": 106,
   "id": "9c9197d6",
   "metadata": {},
   "outputs": [
    {
     "data": {
      "text/plain": [
       "array([[5, 6]])"
      ]
     },
     "execution_count": 106,
     "metadata": {},
     "output_type": "execute_result"
    }
   ],
   "source": [
    "bil2d[1:2,1:]"
   ]
  },
  {
   "cell_type": "code",
   "execution_count": 108,
   "id": "580a06ce",
   "metadata": {},
   "outputs": [
    {
     "data": {
      "text/plain": [
       "array([[5, 6]])"
      ]
     },
     "execution_count": 108,
     "metadata": {},
     "output_type": "execute_result"
    }
   ],
   "source": [
    "bil2d[1:2,1:]"
   ]
  },
  {
   "cell_type": "markdown",
   "id": "df8f45bc",
   "metadata": {},
   "source": [
    "## Slicing dengan Boolean di NumPy"
   ]
  },
  {
   "cell_type": "code",
   "execution_count": 109,
   "id": "00191ecd",
   "metadata": {},
   "outputs": [],
   "source": [
    "bil = np.arange(1,11)"
   ]
  },
  {
   "cell_type": "code",
   "execution_count": 110,
   "id": "da0243be",
   "metadata": {},
   "outputs": [
    {
     "data": {
      "text/plain": [
       "array([ 1,  2,  3,  4,  5,  6,  7,  8,  9, 10])"
      ]
     },
     "execution_count": 110,
     "metadata": {},
     "output_type": "execute_result"
    }
   ],
   "source": [
    "bil"
   ]
  },
  {
   "cell_type": "code",
   "execution_count": 111,
   "id": "f7a1eaba",
   "metadata": {},
   "outputs": [],
   "source": [
    "angkaT = bil > 5"
   ]
  },
  {
   "cell_type": "code",
   "execution_count": 112,
   "id": "58cea38b",
   "metadata": {},
   "outputs": [
    {
     "data": {
      "text/plain": [
       "array([False, False, False, False, False,  True,  True,  True,  True,\n",
       "        True])"
      ]
     },
     "execution_count": 112,
     "metadata": {},
     "output_type": "execute_result"
    }
   ],
   "source": [
    "angkaT"
   ]
  },
  {
   "cell_type": "code",
   "execution_count": 114,
   "id": "c4dc8d30",
   "metadata": {},
   "outputs": [],
   "source": [
    "bil = bil[angkaT]"
   ]
  },
  {
   "cell_type": "code",
   "execution_count": 115,
   "id": "f79943b8",
   "metadata": {},
   "outputs": [
    {
     "data": {
      "text/plain": [
       "array([ 6,  7,  8,  9, 10])"
      ]
     },
     "execution_count": 115,
     "metadata": {},
     "output_type": "execute_result"
    }
   ],
   "source": [
    "bil"
   ]
  },
  {
   "cell_type": "code",
   "execution_count": 116,
   "id": "707937be",
   "metadata": {},
   "outputs": [],
   "source": [
    "bil = np.arange(1,11)"
   ]
  },
  {
   "cell_type": "code",
   "execution_count": 117,
   "id": "e775692d",
   "metadata": {},
   "outputs": [
    {
     "data": {
      "text/plain": [
       "array([ 1,  2,  3,  4,  5,  6,  7,  8,  9, 10])"
      ]
     },
     "execution_count": 117,
     "metadata": {},
     "output_type": "execute_result"
    }
   ],
   "source": [
    "bil"
   ]
  },
  {
   "cell_type": "code",
   "execution_count": 118,
   "id": "ca808d7f",
   "metadata": {},
   "outputs": [
    {
     "data": {
      "text/plain": [
       "array([ 6,  7,  8,  9, 10])"
      ]
     },
     "execution_count": 118,
     "metadata": {},
     "output_type": "execute_result"
    }
   ],
   "source": [
    "bil[bil>5]"
   ]
  },
  {
   "cell_type": "code",
   "execution_count": 119,
   "id": "56570f78",
   "metadata": {},
   "outputs": [
    {
     "data": {
      "text/plain": [
       "array([ 1,  2,  3,  4,  5,  6,  7,  8,  9, 10])"
      ]
     },
     "execution_count": 119,
     "metadata": {},
     "output_type": "execute_result"
    }
   ],
   "source": [
    "bil"
   ]
  },
  {
   "cell_type": "code",
   "execution_count": 120,
   "id": "499d6958",
   "metadata": {},
   "outputs": [],
   "source": [
    "bil = bil[bil>5]"
   ]
  },
  {
   "cell_type": "code",
   "execution_count": 121,
   "id": "b27efaba",
   "metadata": {},
   "outputs": [
    {
     "data": {
      "text/plain": [
       "array([ 6,  7,  8,  9, 10])"
      ]
     },
     "execution_count": 121,
     "metadata": {},
     "output_type": "execute_result"
    }
   ],
   "source": [
    "bil"
   ]
  },
  {
   "cell_type": "code",
   "execution_count": 3,
   "id": "91e4bee5",
   "metadata": {},
   "outputs": [
    {
     "data": {
      "text/plain": [
       "array([[1, 2],\n",
       "       [3, 4],\n",
       "       [5, 6]])"
      ]
     },
     "execution_count": 3,
     "metadata": {},
     "output_type": "execute_result"
    }
   ],
   "source": [
    "import numpy as np\n",
    "xnb = np.array([1,2,3,4,5,6]).reshape(3, 2)\n",
    "xnb"
   ]
  },
  {
   "cell_type": "code",
   "execution_count": 4,
   "id": "2aebe802",
   "metadata": {},
   "outputs": [
    {
     "data": {
      "text/plain": [
       "array([  0.,  25.,  50.,  75., 100.])"
      ]
     },
     "execution_count": 4,
     "metadata": {},
     "output_type": "execute_result"
    }
   ],
   "source": [
    "np.linspace(0,100, 5)"
   ]
  },
  {
   "cell_type": "markdown",
   "id": "6bef71b8",
   "metadata": {},
   "source": [
    "## Array Multidimensi"
   ]
  },
  {
   "cell_type": "code",
   "execution_count": 3,
   "id": "9c341940",
   "metadata": {},
   "outputs": [
    {
     "data": {
      "text/plain": [
       "array([[4.  , 3.3 , 3.5 , 4.  ],\n",
       "       [3.96, 3.92, 4.  , 4.  ],\n",
       "       [3.2 , 3.8 , 4.  , 4.  ]], dtype=float16)"
      ]
     },
     "execution_count": 3,
     "metadata": {},
     "output_type": "execute_result"
    }
   ],
   "source": [
    "students_gpas = np.array([\n",
    "    [4.0, 3.3, 3.5, 4.0], \n",
    "    [3.96, 3.92, 4.0, 4.0], \n",
    "    [3.2, 3.8, 4.0, 4.0]\n",
    "], np.float16)\n",
    "students_gpas"
   ]
  },
  {
   "cell_type": "code",
   "execution_count": 4,
   "id": "75f57ff3",
   "metadata": {},
   "outputs": [
    {
     "data": {
      "text/plain": [
       "2"
      ]
     },
     "execution_count": 4,
     "metadata": {},
     "output_type": "execute_result"
    }
   ],
   "source": [
    "students_gpas.ndim #untuk mengetahui number of dimension"
   ]
  },
  {
   "cell_type": "code",
   "execution_count": 5,
   "id": "8d100a9c",
   "metadata": {},
   "outputs": [
    {
     "data": {
      "text/plain": [
       "(3, 4)"
      ]
     },
     "execution_count": 5,
     "metadata": {},
     "output_type": "execute_result"
    }
   ],
   "source": [
    "students_gpas.shape #menunjukkan banyaknya baris dan kolom"
   ]
  },
  {
   "cell_type": "code",
   "execution_count": 6,
   "id": "cd5cc7a8",
   "metadata": {},
   "outputs": [
    {
     "data": {
      "text/plain": [
       "array([3.2, 3.8, 4. , 4. ], dtype=float16)"
      ]
     },
     "execution_count": 6,
     "metadata": {},
     "output_type": "execute_result"
    }
   ],
   "source": [
    "students_gpas[2]"
   ]
  },
  {
   "cell_type": "code",
   "execution_count": 7,
   "id": "2d48444a",
   "metadata": {},
   "outputs": [
    {
     "data": {
      "text/plain": [
       "4.0"
      ]
     },
     "execution_count": 7,
     "metadata": {},
     "output_type": "execute_result"
    }
   ],
   "source": [
    "students_gpas[2, 3]"
   ]
  },
  {
   "cell_type": "markdown",
   "id": "81db7efa",
   "metadata": {},
   "source": [
    "## Study Log MultiDimensi"
   ]
  },
  {
   "cell_type": "code",
   "execution_count": 8,
   "id": "af349b8e",
   "metadata": {},
   "outputs": [],
   "source": [
    "study_minutes = np.zeros(100)"
   ]
  },
  {
   "cell_type": "code",
   "execution_count": 9,
   "id": "05e89677",
   "metadata": {},
   "outputs": [
    {
     "data": {
      "text/plain": [
       "array([0., 0., 0., 0., 0., 0., 0., 0., 0., 0., 0., 0., 0., 0., 0., 0., 0.,\n",
       "       0., 0., 0., 0., 0., 0., 0., 0., 0., 0., 0., 0., 0., 0., 0., 0., 0.,\n",
       "       0., 0., 0., 0., 0., 0., 0., 0., 0., 0., 0., 0., 0., 0., 0., 0., 0.,\n",
       "       0., 0., 0., 0., 0., 0., 0., 0., 0., 0., 0., 0., 0., 0., 0., 0., 0.,\n",
       "       0., 0., 0., 0., 0., 0., 0., 0., 0., 0., 0., 0., 0., 0., 0., 0., 0.,\n",
       "       0., 0., 0., 0., 0., 0., 0., 0., 0., 0., 0., 0., 0., 0., 0.])"
      ]
     },
     "execution_count": 9,
     "metadata": {},
     "output_type": "execute_result"
    }
   ],
   "source": [
    "study_minutes"
   ]
  },
  {
   "cell_type": "code",
   "execution_count": 10,
   "id": "d4fd6d76",
   "metadata": {},
   "outputs": [
    {
     "data": {
      "text/plain": [
       "(2, 100)"
      ]
     },
     "execution_count": 10,
     "metadata": {},
     "output_type": "execute_result"
    }
   ],
   "source": [
    "study_minutes = np.array([\n",
    "    study_minutes,\n",
    "    np.zeros(100, np.uint16)\n",
    "])\n",
    "study_minutes.shape"
   ]
  },
  {
   "cell_type": "code",
   "execution_count": 11,
   "id": "7ecd8e02",
   "metadata": {},
   "outputs": [
    {
     "data": {
      "text/plain": [
       "array([ 99,  45,  70, 162, 146,  70, 177, 176,  47, 148, 123,  67,  90,\n",
       "       122,  34, 160, 135, 102,  62,  61,  85,  52, 153, 128,  89,  37,\n",
       "       109,  60, 128,  57, 160,  67, 144,  97, 150, 148,  32, 155, 116,\n",
       "       137,  49,  70, 159, 159,  84, 114,  93, 110,  81, 122, 103,  53,\n",
       "        52, 147,  75,  93,  45,  46, 177,  91,  70,  69,  46, 150,  86,\n",
       "       170, 174, 143,  88,  71, 132,  67, 157, 118,  91, 158, 178, 176,\n",
       "        37, 155,  45,  66,  60,  35, 154,  75,  53,  33,  80, 126,  76,\n",
       "       113, 148, 163,  57,  83, 145, 148, 167, 129], dtype=uint16)"
      ]
     },
     "execution_count": 11,
     "metadata": {},
     "output_type": "execute_result"
    }
   ],
   "source": [
    "rand = np.random.RandomState(46)\n",
    "fake_log = rand.randint(30, 180, size=100, dtype=np.uint16)\n",
    "fake_log"
   ]
  },
  {
   "cell_type": "code",
   "execution_count": 12,
   "id": "7ca94e56",
   "metadata": {},
   "outputs": [
    {
     "data": {
      "text/plain": [
       "[45, 52]"
      ]
     },
     "execution_count": 12,
     "metadata": {},
     "output_type": "execute_result"
    }
   ],
   "source": [
    "[fake_log[1], fake_log[21]]   #dalam list"
   ]
  },
  {
   "cell_type": "code",
   "execution_count": 13,
   "id": "2accdfa8",
   "metadata": {},
   "outputs": [
    {
     "data": {
      "text/plain": [
       "array([45, 52], dtype=uint16)"
      ]
     },
     "execution_count": 13,
     "metadata": {},
     "output_type": "execute_result"
    }
   ],
   "source": [
    "fake_log[[1, 21]]      #dalam array"
   ]
  },
  {
   "cell_type": "code",
   "execution_count": 14,
   "id": "ee398685",
   "metadata": {},
   "outputs": [
    {
     "data": {
      "text/plain": [
       "array([[45, 52],\n",
       "       [45, 70]], dtype=uint16)"
      ]
     },
     "execution_count": 14,
     "metadata": {},
     "output_type": "execute_result"
    }
   ],
   "source": [
    "index = np.array([\n",
    "    [1, 21], [1,2]\n",
    "])\n",
    "fake_log[index]"
   ]
  },
  {
   "cell_type": "code",
   "execution_count": 15,
   "id": "eb7f3814",
   "metadata": {},
   "outputs": [
    {
     "data": {
      "text/plain": [
       "array([[ 0,  1,  2,  3,  4,  5],\n",
       "       [ 6,  7,  8,  9, 10, 11],\n",
       "       [12, 13, 14, 15, 16, 17],\n",
       "       [18, 19, 20, 21, 22, 23],\n",
       "       [24, 25, 26, 27, 28, 29],\n",
       "       [30, 31, 32, 33, 34, 35],\n",
       "       [36, 37, 38, 39, 40, 41]])"
      ]
     },
     "execution_count": 15,
     "metadata": {},
     "output_type": "execute_result"
    }
   ],
   "source": [
    "practice = np.arange(42)\n",
    "practice.shape = (7, 6)\n",
    "practice"
   ]
  },
  {
   "cell_type": "code",
   "execution_count": 16,
   "id": "b77c8c5b",
   "metadata": {},
   "outputs": [
    {
     "data": {
      "text/plain": [
       "13"
      ]
     },
     "execution_count": 16,
     "metadata": {},
     "output_type": "execute_result"
    }
   ],
   "source": [
    "practice[2, 1]"
   ]
  },
  {
   "cell_type": "code",
   "execution_count": 17,
   "id": "cb1b110c",
   "metadata": {},
   "outputs": [
    {
     "data": {
      "text/plain": [
       "array([[12, 13, 14, 15, 16, 17],\n",
       "       [18, 19, 20, 21, 22, 23],\n",
       "       [24, 25, 26, 27, 28, 29]])"
      ]
     },
     "execution_count": 17,
     "metadata": {},
     "output_type": "execute_result"
    }
   ],
   "source": [
    "practice[2:5]"
   ]
  },
  {
   "cell_type": "code",
   "execution_count": 18,
   "id": "1fc8a9a2",
   "metadata": {},
   "outputs": [
    {
     "data": {
      "text/plain": [
       "array([15, 21, 27])"
      ]
     },
     "execution_count": 18,
     "metadata": {},
     "output_type": "execute_result"
    }
   ],
   "source": [
    "practice[2:5, 3]"
   ]
  },
  {
   "cell_type": "code",
   "execution_count": 19,
   "id": "e4a605d9",
   "metadata": {},
   "outputs": [
    {
     "data": {
      "text/plain": [
       "array([[15, 16, 17],\n",
       "       [21, 22, 23],\n",
       "       [27, 28, 29]])"
      ]
     },
     "execution_count": 19,
     "metadata": {},
     "output_type": "execute_result"
    }
   ],
   "source": [
    "practice[2:5, 3:]"
   ]
  },
  {
   "cell_type": "code",
   "execution_count": 20,
   "id": "9813fc83",
   "metadata": {},
   "outputs": [
    {
     "data": {
      "text/plain": [
       "([1, 2, 3], [1, 2, 3])"
      ]
     },
     "execution_count": 20,
     "metadata": {},
     "output_type": "execute_result"
    }
   ],
   "source": [
    "practice_list = [1,2,3]\n",
    "practice_list_copy = practice_list[:]\n",
    "practice_list, practice_list_copy"
   ]
  },
  {
   "cell_type": "code",
   "execution_count": 21,
   "id": "c33b7839",
   "metadata": {},
   "outputs": [
    {
     "data": {
      "text/plain": [
       "([1, 2, 3], [12345, 2, 3])"
      ]
     },
     "execution_count": 21,
     "metadata": {},
     "output_type": "execute_result"
    }
   ],
   "source": [
    "practice_list = [1,2,3]\n",
    "practice_list_copy = practice_list[:]\n",
    "practice_list, practice_list_copy\n",
    "practice_list_copy[0] = 12345\n",
    "practice_list, practice_list_copy"
   ]
  },
  {
   "cell_type": "code",
   "execution_count": 22,
   "id": "bbacfb1f",
   "metadata": {},
   "outputs": [
    {
     "data": {
      "text/plain": [
       "array([[ 0,  1,  2,  3,  4,  5],\n",
       "       [ 6,  7,  8,  9, 10, 11],\n",
       "       [12, 13, 14, 15, 16, 17],\n",
       "       [18, 19, 20, 21, 22, 23],\n",
       "       [24, 25, 26, 27, 28, 29],\n",
       "       [30, 31, 32, 33, 34, 35],\n",
       "       [36, 37, 38, 39, 40, 41]])"
      ]
     },
     "execution_count": 22,
     "metadata": {},
     "output_type": "execute_result"
    }
   ],
   "source": [
    "practice = np.arange(42)\n",
    "practice.shape = (7, 6)\n",
    "practice"
   ]
  },
  {
   "cell_type": "code",
   "execution_count": 23,
   "id": "053ba4cc",
   "metadata": {},
   "outputs": [
    {
     "data": {
      "text/plain": [
       "(array([[12345,     1,     2,     3,     4,     5],\n",
       "        [    6,     7,     8,     9,    10,    11],\n",
       "        [   12,    13,    14,    15,    16,    17],\n",
       "        [   18,    19,    20,    21,    22,    23],\n",
       "        [   24,    25,    26,    27,    28,    29],\n",
       "        [   30,    31,    32,    33,    34,    35],\n",
       "        [   36,    37,    38,    39,    40,    41]]),\n",
       " array([[12345,     1,     2,     3,     4,     5],\n",
       "        [    6,     7,     8,     9,    10,    11],\n",
       "        [   12,    13,    14,    15,    16,    17],\n",
       "        [   18,    19,    20,    21,    22,    23],\n",
       "        [   24,    25,    26,    27,    28,    29],\n",
       "        [   30,    31,    32,    33,    34,    35],\n",
       "        [   36,    37,    38,    39,    40,    41]]))"
      ]
     },
     "execution_count": 23,
     "metadata": {},
     "output_type": "execute_result"
    }
   ],
   "source": [
    "not_copied = practice[:]\n",
    "not_copied[0,0] = 12345\n",
    "practice, not_copied"
   ]
  },
  {
   "cell_type": "code",
   "execution_count": 24,
   "id": "c1867a36",
   "metadata": {},
   "outputs": [
    {
     "name": "stdout",
     "output_type": "stream",
     "text": [
      "None\n"
     ]
    }
   ],
   "source": [
    "print(practice.base)"
   ]
  },
  {
   "cell_type": "code",
   "execution_count": 25,
   "id": "a6beab29",
   "metadata": {},
   "outputs": [
    {
     "data": {
      "text/plain": [
       "True"
      ]
     },
     "execution_count": 25,
     "metadata": {},
     "output_type": "execute_result"
    }
   ],
   "source": [
    "not_copied.base is practice #untuk mengetahui kebenaran base dari not_copied"
   ]
  },
  {
   "cell_type": "code",
   "execution_count": 26,
   "id": "4e9c8490",
   "metadata": {},
   "outputs": [
    {
     "data": {
      "text/plain": [
       "array([[0., 0., 0., 0., 0., 0., 0., 0., 0., 0., 0., 0., 0., 0., 0., 0.,\n",
       "        0., 0., 0., 0., 0., 0., 0., 0., 0., 0., 0., 0., 0., 0., 0., 0.,\n",
       "        0., 0., 0., 0., 0., 0., 0., 0., 0., 0., 0., 0., 0., 0., 0., 0.,\n",
       "        0., 0., 0., 0., 0., 0., 0., 0., 0., 0., 0., 0., 0., 0., 0., 0.,\n",
       "        0., 0., 0., 0., 0., 0., 0., 0., 0., 0., 0., 0., 0., 0., 0., 0.,\n",
       "        0., 0., 0., 0., 0., 0., 0., 0., 0., 0., 0., 0., 0., 0., 0., 0.,\n",
       "        0., 0., 0., 0.],\n",
       "       [0., 0., 0., 0., 0., 0., 0., 0., 0., 0., 0., 0., 0., 0., 0., 0.,\n",
       "        0., 0., 0., 0., 0., 0., 0., 0., 0., 0., 0., 0., 0., 0., 0., 0.,\n",
       "        0., 0., 0., 0., 0., 0., 0., 0., 0., 0., 0., 0., 0., 0., 0., 0.,\n",
       "        0., 0., 0., 0., 0., 0., 0., 0., 0., 0., 0., 0., 0., 0., 0., 0.,\n",
       "        0., 0., 0., 0., 0., 0., 0., 0., 0., 0., 0., 0., 0., 0., 0., 0.,\n",
       "        0., 0., 0., 0., 0., 0., 0., 0., 0., 0., 0., 0., 0., 0., 0., 0.,\n",
       "        0., 0., 0., 0.]])"
      ]
     },
     "execution_count": 26,
     "metadata": {},
     "output_type": "execute_result"
    }
   ],
   "source": [
    "study_minutes"
   ]
  },
  {
   "cell_type": "markdown",
   "id": "0a2eb1ab",
   "metadata": {},
   "source": [
    "## Filter Array dengan kondisi\n",
    "### Mencari durasi belajar < 1 jam (60 menit)"
   ]
  },
  {
   "cell_type": "code",
   "execution_count": 27,
   "id": "3f1ee677",
   "metadata": {},
   "outputs": [
    {
     "data": {
      "text/plain": [
       "array([ 99,  45,  70, 162, 146,  70, 177, 176,  47, 148, 123,  67,  90,\n",
       "       122,  34, 160, 135, 102,  62,  61,  85,  52, 153, 128,  89,  37,\n",
       "       109,  60, 128,  57, 160,  67, 144,  97, 150, 148,  32, 155, 116,\n",
       "       137,  49,  70, 159, 159,  84, 114,  93, 110,  81, 122, 103,  53,\n",
       "        52, 147,  75,  93,  45,  46, 177,  91,  70,  69,  46, 150,  86,\n",
       "       170, 174, 143,  88,  71, 132,  67, 157, 118,  91, 158, 178, 176,\n",
       "        37, 155,  45,  66,  60,  35, 154,  75,  53,  33,  80, 126,  76,\n",
       "       113, 148, 163,  57,  83, 145, 148, 167, 129], dtype=uint16)"
      ]
     },
     "execution_count": 27,
     "metadata": {},
     "output_type": "execute_result"
    }
   ],
   "source": [
    "fake_log"
   ]
  },
  {
   "cell_type": "code",
   "execution_count": 28,
   "id": "61800c3e",
   "metadata": {},
   "outputs": [
    {
     "data": {
      "text/plain": [
       "array([ 99,  45,  70, 162, 146,  70, 177, 176,  47, 148, 123,  67,  90,\n",
       "       122,  34, 160, 135, 102,  62,  61,  85,  52, 153, 128,  89,  37,\n",
       "       109,  60, 128,  57, 160,  67, 144,  97, 150, 148,  32, 155, 116,\n",
       "       137,  49,  70, 159, 159,  84, 114,  93, 110,  81, 122, 103,  53,\n",
       "        52, 147,  75,  93,  45,  46, 177,  91,  70,  69,  46, 150,  86,\n",
       "       170, 174, 143,  88,  71, 132,  67, 157, 118,  91, 158, 178, 176,\n",
       "        37, 155,  45,  66,  60,  35, 154,  75,  53,  33,  80, 126,  76,\n",
       "       113, 148, 163,  57,  83, 145, 148, 167, 129], dtype=uint16)"
      ]
     },
     "execution_count": 28,
     "metadata": {},
     "output_type": "execute_result"
    }
   ],
   "source": [
    "rand = np.random.RandomState(46)\n",
    "fake_log = rand.randint(30, 180, size=100, dtype=np.uint16)\n",
    "fake_log"
   ]
  },
  {
   "cell_type": "code",
   "execution_count": 29,
   "id": "2c63a6bb",
   "metadata": {},
   "outputs": [
    {
     "data": {
      "text/plain": [
       "array([45, 47, 34, 52, 37, 57, 32, 49, 53, 52, 45, 46, 46, 37, 45, 35, 53,\n",
       "       33, 57], dtype=uint16)"
      ]
     },
     "execution_count": 29,
     "metadata": {},
     "output_type": "execute_result"
    }
   ],
   "source": [
    "fake_log < 60 #mencari nilai yang kurang dari 60\n",
    "fake_log[fake_log < 60] #untuk mengetahui nilai apa saja yang kurang dari < 60"
   ]
  },
  {
   "cell_type": "code",
   "execution_count": 30,
   "id": "07ff5d21",
   "metadata": {},
   "outputs": [
    {
     "data": {
      "text/plain": [
       "array([45, 47, 34, 52, 37, 57, 32, 49, 53, 52, 45, 46, 46, 37, 45, 35, 53,\n",
       "       33, 57], dtype=uint16)"
      ]
     },
     "execution_count": 30,
     "metadata": {},
     "output_type": "execute_result"
    }
   ],
   "source": [
    "results = [] #mengetahui nilai yang kurang dari 60 dengan for loop\n",
    "for value in fake_log:\n",
    "    if value < 60:\n",
    "        results.append(value)\n",
    "    \n",
    "np.array(results)"
   ]
  },
  {
   "cell_type": "code",
   "execution_count": 31,
   "id": "79cf09b7",
   "metadata": {},
   "outputs": [
    {
     "data": {
      "text/plain": [
       "array([  0,   0,   0,   0,   0,   0,   0,   0,   0,   0,   0,   0,   0,\n",
       "         0,   0,   0,   0,   0,   0,   0,   0,   0,   0,   0,   0,   0,\n",
       "         0,   0,   0,   0,   0,   0,   0,   0,   0,   0,   0,   0,   0,\n",
       "         0,   0,   0,   0,   0,   0,   0,   0,   0,   0,   0,   0,   0,\n",
       "         0,   0,   0,   0,   0,   0,   0,   0,   0,   0,   0,   0,   0,\n",
       "         0,   0,   0,   0,   0,   0,   0,   0,   0,   0,   0,   0,   0,\n",
       "         0,   0,   0,   0,   0,   0,   0,   0,   0,   0,   0,   0,   0,\n",
       "         0,   0,   0,   0,   0,   0,   0,   0,   0,  99,  45,  70, 162,\n",
       "       146,  70, 177, 176,  47, 148, 123,  67,  90, 122,  34, 160, 135,\n",
       "       102,  62,  61,  85,  52, 153, 128,  89,  37, 109,  60, 128,  57,\n",
       "       160,  67, 144,  97, 150, 148,  32, 155, 116, 137,  49,  70, 159,\n",
       "       159,  84, 114,  93, 110,  81, 122, 103,  53,  52, 147,  75,  93,\n",
       "        45,  46, 177,  91,  70,  69,  46, 150,  86, 170, 174, 143,  88,\n",
       "        71, 132,  67, 157, 118,  91, 158, 178, 176,  37, 155,  45,  66,\n",
       "        60,  35, 154,  75,  53,  33,  80, 126,  76, 113, 148, 163,  57,\n",
       "        83, 145, 148, 167, 129], dtype=uint16)"
      ]
     },
     "execution_count": 31,
     "metadata": {},
     "output_type": "execute_result"
    }
   ],
   "source": [
    "study_minutes = np.zeros(100, np.uint16)\n",
    "study_minutes = np.append(study_minutes, [fake_log])\n",
    "study_minutes"
   ]
  },
  {
   "cell_type": "code",
   "execution_count": 32,
   "id": "fc0ea150",
   "metadata": {},
   "outputs": [
    {
     "data": {
      "text/plain": [
       "array([45, 47, 34, 52, 37, 57, 32, 49, 53, 52, 45, 46, 46, 37, 45, 35, 53,\n",
       "       33, 57], dtype=uint16)"
      ]
     },
     "execution_count": 32,
     "metadata": {},
     "output_type": "execute_result"
    }
   ],
   "source": [
    "study_minutes[study_minutes < 60]\n",
    "study_minutes[(study_minutes < 60) & (study_minutes > 0)]"
   ]
  },
  {
   "cell_type": "markdown",
   "id": "6a05c86e",
   "metadata": {},
   "source": [
    "## Aljabar Linear"
   ]
  },
  {
   "cell_type": "code",
   "execution_count": 33,
   "id": "16d1c9f5",
   "metadata": {},
   "outputs": [
    {
     "data": {
      "text/plain": [
       "array([10000.,  2500.,  5000.,  3000.])"
      ]
     },
     "execution_count": 33,
     "metadata": {},
     "output_type": "execute_result"
    }
   ],
   "source": [
    "orders = np.array([[2, 0, 0, 0], [1, 0, 2, 4], [1, 2, 1, 0], [4, 6, 0, 2]])\n",
    "totals = np.array([20000, 32000, 20000, 61000])\n",
    "prices = np.linalg.solve(orders, totals)\n",
    "prices"
   ]
  },
  {
   "cell_type": "code",
   "execution_count": 34,
   "id": "2bb1400e",
   "metadata": {},
   "outputs": [
    {
     "data": {
      "text/plain": [
       "array([20000., 32000., 20000., 61000.])"
      ]
     },
     "execution_count": 34,
     "metadata": {},
     "output_type": "execute_result"
    }
   ],
   "source": [
    "orders @ prices #operasi perkalian pada numpy"
   ]
  },
  {
   "cell_type": "markdown",
   "id": "cd0a36f3",
   "metadata": {},
   "source": [
    "## Fungsi Universal"
   ]
  },
  {
   "cell_type": "code",
   "execution_count": 35,
   "id": "3d2ac5a3",
   "metadata": {},
   "outputs": [
    {
     "data": {
      "text/plain": [
       "(array([1, 2, 3, 4, 5]), array([ 6,  7,  8,  9, 10]))"
      ]
     },
     "execution_count": 35,
     "metadata": {},
     "output_type": "execute_result"
    }
   ],
   "source": [
    "a, b = np.split(np.arange(1, 11), 2)\n",
    "a, b"
   ]
  },
  {
   "cell_type": "code",
   "execution_count": 36,
   "id": "c951dd81",
   "metadata": {},
   "outputs": [
    {
     "data": {
      "text/plain": [
       "array([ 7,  9, 11, 13, 15])"
      ]
     },
     "execution_count": 36,
     "metadata": {},
     "output_type": "execute_result"
    }
   ],
   "source": [
    "a + b"
   ]
  },
  {
   "cell_type": "code",
   "execution_count": 37,
   "id": "f7bda69b",
   "metadata": {},
   "outputs": [
    {
     "data": {
      "text/plain": [
       "array([ 6, 14, 24, 36, 50])"
      ]
     },
     "execution_count": 37,
     "metadata": {},
     "output_type": "execute_result"
    }
   ],
   "source": [
    "a * b"
   ]
  },
  {
   "cell_type": "code",
   "execution_count": 38,
   "id": "d23e664b",
   "metadata": {},
   "outputs": [
    {
     "data": {
      "text/plain": [
       "array([-5, -5, -5, -5, -5])"
      ]
     },
     "execution_count": 38,
     "metadata": {},
     "output_type": "execute_result"
    }
   ],
   "source": [
    "a - b"
   ]
  },
  {
   "cell_type": "code",
   "execution_count": 39,
   "id": "efd7f305",
   "metadata": {},
   "outputs": [
    {
     "data": {
      "text/plain": [
       "array([4, 5, 6, 7, 8])"
      ]
     },
     "execution_count": 39,
     "metadata": {},
     "output_type": "execute_result"
    }
   ],
   "source": [
    "a + np.repeat(3 ,5)"
   ]
  },
  {
   "cell_type": "code",
   "execution_count": 40,
   "id": "002afd36",
   "metadata": {},
   "outputs": [
    {
     "data": {
      "text/plain": [
       "(array([[0., 1., 2.],\n",
       "        [3., 4., 5.],\n",
       "        [6., 7., 8.]]),\n",
       " array([0., 1., 2.]))"
      ]
     },
     "execution_count": 40,
     "metadata": {},
     "output_type": "execute_result"
    }
   ],
   "source": [
    "x1 = np.arange(9.0).reshape((3, 3))\n",
    "x2 = np.arange(3.0)\n",
    "x1, x2"
   ]
  },
  {
   "cell_type": "code",
   "execution_count": 41,
   "id": "7f24e9aa",
   "metadata": {},
   "outputs": [
    {
     "data": {
      "text/plain": [
       "array([[ 0.,  2.,  4.],\n",
       "       [ 3.,  5.,  7.],\n",
       "       [ 6.,  8., 10.]])"
      ]
     },
     "execution_count": 41,
     "metadata": {},
     "output_type": "execute_result"
    }
   ],
   "source": [
    "np.add(x1, x2) #menambahkan array x1 dengan array x2"
   ]
  },
  {
   "cell_type": "code",
   "execution_count": 42,
   "id": "f01f1d64",
   "metadata": {},
   "outputs": [
    {
     "data": {
      "text/plain": [
       "array([[ 2.,  3.,  4.],\n",
       "       [ 5.,  6.,  7.],\n",
       "       [ 8.,  9., 10.]])"
      ]
     },
     "execution_count": 42,
     "metadata": {},
     "output_type": "execute_result"
    }
   ],
   "source": [
    "np.add(x1, 2) #menambahkan array x1 dengan 2"
   ]
  },
  {
   "cell_type": "markdown",
   "id": "8c18842b",
   "metadata": {},
   "source": [
    "## Operasi Matrix Lainnya"
   ]
  },
  {
   "cell_type": "code",
   "execution_count": 43,
   "id": "251582df",
   "metadata": {},
   "outputs": [
    {
     "name": "stdout",
     "output_type": "stream",
     "text": [
      "[45 47 34 52 37 57 32 49 53 52 45 46 46 37 45 35 53 33 57]\n"
     ]
    },
    {
     "data": {
      "text/plain": [
       "855"
      ]
     },
     "execution_count": 43,
     "metadata": {},
     "output_type": "execute_result"
    }
   ],
   "source": [
    "study_less = study_minutes[(study_minutes < 60) & (study_minutes > 0)]\n",
    "print(study_less)\n",
    "np.add.reduce(study_less) # menjumlahkan semua elemen yang ada pada variabel study_less"
   ]
  },
  {
   "cell_type": "code",
   "execution_count": 44,
   "id": "929d2392",
   "metadata": {},
   "outputs": [
    {
     "data": {
      "text/plain": [
       "855"
      ]
     },
     "execution_count": 44,
     "metadata": {},
     "output_type": "execute_result"
    }
   ],
   "source": [
    "np.sum(study_less) #menjumlahkan semua elemen yang ada pada variabel study_less"
   ]
  },
  {
   "cell_type": "code",
   "execution_count": 45,
   "id": "765e9594",
   "metadata": {},
   "outputs": [
    {
     "data": {
      "text/plain": [
       "10415"
      ]
     },
     "execution_count": 45,
     "metadata": {},
     "output_type": "execute_result"
    }
   ],
   "source": [
    "np.sum(study_minutes)"
   ]
  }
 ],
 "metadata": {
  "kernelspec": {
   "display_name": "Python 3 (ipykernel)",
   "language": "python",
   "name": "python3"
  },
  "language_info": {
   "codemirror_mode": {
    "name": "ipython",
    "version": 3
   },
   "file_extension": ".py",
   "mimetype": "text/x-python",
   "name": "python",
   "nbconvert_exporter": "python",
   "pygments_lexer": "ipython3",
   "version": "3.9.12"
  }
 },
 "nbformat": 4,
 "nbformat_minor": 5
}
