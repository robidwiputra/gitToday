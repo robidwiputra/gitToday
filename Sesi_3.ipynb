{
 "cells": [
  {
   "cell_type": "markdown",
   "id": "22f0a842",
   "metadata": {},
   "source": [
    "# Python for Data Science // S.3 // Function, Basic Module, and Package // PYTN-KS09\n",
    "---"
   ]
  },
  {
   "cell_type": "markdown",
   "id": "fcc1e1fc",
   "metadata": {},
   "source": [
    "## Python Function"
   ]
  },
  {
   "cell_type": "code",
   "execution_count": 5,
   "id": "de9c3a4d",
   "metadata": {},
   "outputs": [
    {
     "name": "stdout",
     "output_type": "stream",
     "text": [
      "I'm first call to user defined function!\n",
      "Again second call to the same function\n"
     ]
    }
   ],
   "source": [
    "# mendefinisikan fungsi\n",
    "def printme( str ):\n",
    "   \"This prints a passed string into this function\"\n",
    "   print(str)\n",
    "   return;\n",
    "\n",
    "# printme function\n",
    "printme(\"I'm first call to user defined function!\")\n",
    "printme(\"Again second call to the same function\")"
   ]
  },
  {
   "cell_type": "markdown",
   "id": "f5695268",
   "metadata": {},
   "source": [
    "### Pass by reference vs value"
   ]
  },
  {
   "cell_type": "code",
   "execution_count": 6,
   "id": "87cb043e",
   "metadata": {},
   "outputs": [
    {
     "name": "stdout",
     "output_type": "stream",
     "text": [
      "Values inside the function:  [10, 20, 30, [1, 2, 3, 4]]\n",
      "Values outside the function:  [10, 20, 30, [1, 2, 3, 4]]\n"
     ]
    }
   ],
   "source": [
    "# Function definition \n",
    "def changeme( mylist ):\n",
    "   \"This changes a passed list into this function\"\n",
    "   mylist.append([1,2,3,4]);\n",
    "   print(\"Values inside the function: \", mylist)\n",
    "   return\n",
    "\n",
    "# call changeme function\n",
    "mylist = [10,20,30];\n",
    "changeme( mylist );\n",
    "print(\"Values outside the function: \", mylist)"
   ]
  },
  {
   "cell_type": "code",
   "execution_count": 7,
   "id": "aff69140",
   "metadata": {},
   "outputs": [
    {
     "name": "stdout",
     "output_type": "stream",
     "text": [
      "Values inside the function:  [1, 2, 3, 4]\n",
      "Values outside the function:  [10, 20, 30]\n"
     ]
    }
   ],
   "source": [
    "# Function definition \n",
    "def changeme( mylist ):\n",
    "   \"This changes a passed list into this function\"\n",
    "   mylist = [1,2,3,4]; # This would assig new reference in mylist\n",
    "   print(\"Values inside the function: \", mylist)\n",
    "   return\n",
    "\n",
    "# call changeme function\n",
    "mylist = [10,20,30];\n",
    "changeme( mylist );\n",
    "print(\"Values outside the function: \", mylist)"
   ]
  },
  {
   "cell_type": "markdown",
   "id": "5f054442",
   "metadata": {},
   "source": [
    "## Function Arguments"
   ]
  },
  {
   "cell_type": "code",
   "execution_count": 8,
   "id": "0ebcd452",
   "metadata": {},
   "outputs": [
    {
     "name": "stdout",
     "output_type": "stream",
     "text": [
      "Hacktiv8\n"
     ]
    }
   ],
   "source": [
    "# Function definition\n",
    "def printme( str ):\n",
    "   \"This prints a passed string into this function\"\n",
    "   print(str)\n",
    "   return;\n",
    "\n",
    "# call printme function\n",
    "printme(str = \"Hacktiv8\")"
   ]
  },
  {
   "cell_type": "code",
   "execution_count": 10,
   "id": "06a7ea9b",
   "metadata": {},
   "outputs": [
    {
     "name": "stdout",
     "output_type": "stream",
     "text": [
      "Name:  hacktiv8\n",
      "Age:  4\n"
     ]
    }
   ],
   "source": [
    "# Function definition\n",
    "def printinfo( name, age ):\n",
    "   \"This prints a passed info into this function\"\n",
    "   print(\"Name: \", name)\n",
    "   print(\"Age: \", age)\n",
    "   return;\n",
    "\n",
    "# call printinfo function\n",
    "printinfo( age=4, name=\"hacktiv8\" )"
   ]
  },
  {
   "cell_type": "markdown",
   "id": "2d8d6fb8",
   "metadata": {},
   "source": [
    "### Default arguments"
   ]
  },
  {
   "cell_type": "code",
   "execution_count": 11,
   "id": "3d6c3c45",
   "metadata": {},
   "outputs": [
    {
     "name": "stdout",
     "output_type": "stream",
     "text": [
      "Name:  hacktiv8\n",
      "Age:  50\n",
      "Name:  hacktiv\n",
      "Age:  26\n"
     ]
    }
   ],
   "source": [
    "# Function definition\n",
    "def printinfo( name, age = 26 ):\n",
    "   \"This prints a passed info into this function\"\n",
    "   print(\"Name: \", name)\n",
    "   print(\"Age: \", age)\n",
    "   return;\n",
    "\n",
    "# call printinfo function\n",
    "printinfo( age=50, name=\"hacktiv8\" )\n",
    "printinfo( name=\"hacktiv\" )"
   ]
  },
  {
   "cell_type": "markdown",
   "id": "cd6ee110",
   "metadata": {},
   "source": [
    "### Variable-length arguments"
   ]
  },
  {
   "cell_type": "code",
   "execution_count": 12,
   "id": "65751b6c",
   "metadata": {},
   "outputs": [
    {
     "name": "stdout",
     "output_type": "stream",
     "text": [
      "Output is: \n",
      "10\n",
      "Output is: \n",
      "70\n",
      "60\n",
      "50\n"
     ]
    }
   ],
   "source": [
    "# Function definition \n",
    "def printinfo( arg1, *vartuple ):\n",
    "   \"This prints a variable passed arguments\"\n",
    "   print(\"Output is: \")\n",
    "   print(arg1)\n",
    "   for var in vartuple:\n",
    "      print(var)\n",
    "   return;\n",
    "\n",
    "# call printinfo function\n",
    "printinfo( 10 )\n",
    "printinfo( 70, 60, 50 )"
   ]
  },
  {
   "cell_type": "markdown",
   "id": "7b3d466e",
   "metadata": {},
   "source": [
    "## The Anonymous Functions"
   ]
  },
  {
   "cell_type": "code",
   "execution_count": 13,
   "id": "8bdbc74b",
   "metadata": {},
   "outputs": [
    {
     "name": "stdout",
     "output_type": "stream",
     "text": [
      "Value of total :  30\n",
      "Value of total :  40\n"
     ]
    }
   ],
   "source": [
    "# Function definition\n",
    "sum = lambda arg1, arg2: arg1 + arg2;\n",
    "\n",
    "# call sum as a function\n",
    "print(\"Value of total : \", sum( 10, 20 ))\n",
    "print(\"Value of total : \", sum( 20, 20 ))"
   ]
  },
  {
   "cell_type": "markdown",
   "id": "09f8e406",
   "metadata": {},
   "source": [
    "## The return Statement"
   ]
  },
  {
   "cell_type": "code",
   "execution_count": 14,
   "id": "c62c37b7",
   "metadata": {},
   "outputs": [
    {
     "name": "stdout",
     "output_type": "stream",
     "text": [
      "Inside the function :  30\n",
      "Outside the function :  30\n"
     ]
    }
   ],
   "source": [
    "# Function definition\n",
    "def sum( arg1, arg2 ):\n",
    "   # Add both the parameters and return them.\"\n",
    "   total = arg1 + arg2\n",
    "   print(\"Inside the function : \", total)\n",
    "   return total;\n",
    "\n",
    "# call sum function\n",
    "total = sum( 10, 20 );\n",
    "print(\"Outside the function : \", total)"
   ]
  },
  {
   "cell_type": "markdown",
   "id": "0487ea31",
   "metadata": {},
   "source": [
    "## Scope of Variables"
   ]
  },
  {
   "cell_type": "code",
   "execution_count": 16,
   "id": "68ee9b93",
   "metadata": {},
   "outputs": [
    {
     "name": "stdout",
     "output_type": "stream",
     "text": [
      "Inside the function local total :  30\n",
      "Outside the function global total :  0\n"
     ]
    }
   ],
   "source": [
    "total = 0; # global variable.\n",
    "# Function definition\n",
    "def sum( arg1, arg2 ):\n",
    "   # Add both the parameters and return them.\"\n",
    "   total = arg1 + arg2; # Here total is local variable.\n",
    "   print(\"Inside the function local total : \", total)\n",
    "   return total;\n",
    "\n",
    "# call sum function\n",
    "sum( 10, 20 );\n",
    "print(\"Outside the function global total : \", total)"
   ]
  },
  {
   "cell_type": "markdown",
   "id": "2873677f",
   "metadata": {},
   "source": [
    "## Python Modules: Overview"
   ]
  },
  {
   "cell_type": "code",
   "execution_count": 17,
   "id": "4e774550",
   "metadata": {},
   "outputs": [],
   "source": [
    "s = \"Hacktiv8-PTP Python For Data Science\"\n",
    "a = [100, 200, 300]\n",
    "\n",
    "def foo(arg):\n",
    "    print(f'arg = {arg}')\n",
    "\n",
    "class Foo:\n",
    "    pass"
   ]
  },
  {
   "cell_type": "markdown",
   "id": "208d0a2d",
   "metadata": {},
   "source": [
    "Beberapa objek didefinisikan dalam mod.py:\n",
    "\n",
    "- s (sebuah string)\n",
    "- a (daftar)\n",
    "- foo() (fungsi)\n",
    "- Foo (kelas)"
   ]
  },
  {
   "cell_type": "markdown",
   "id": "c104568b",
   "metadata": {},
   "source": [
    "## The import Statement"
   ]
  },
  {
   "cell_type": "markdown",
   "id": "dc3c5c4e",
   "metadata": {},
   "source": [
    "Konten modul disediakan untuk pemanggil dengan pernyataan import. Pernyataan import mengambil berbagai bentuk, yang ditunjukkan di bawah ini."
   ]
  },
  {
   "cell_type": "markdown",
   "id": "5ef7386d",
   "metadata": {},
   "source": [
    "> import `<module_name>`"
   ]
  },
  {
   "cell_type": "markdown",
   "id": "ea2c8027",
   "metadata": {},
   "source": [
    "## The dir() Function"
   ]
  },
  {
   "cell_type": "markdown",
   "id": "b3e97a22",
   "metadata": {},
   "source": [
    "Fungsi bawaan dir() mengembalikan daftar nama yang ditentukan dalam namespace. Tanpa argumen, ini menghasilkan daftar nama yang diurutkan berdasarkan abjad di tabel simbol lokal saat ini:"
   ]
  },
  {
   "cell_type": "markdown",
   "id": "d5fb31d1",
   "metadata": {},
   "source": [
    "## Executing a Module as a Script"
   ]
  },
  {
   "cell_type": "code",
   "execution_count": 21,
   "id": "1b96d8f1",
   "metadata": {},
   "outputs": [
    {
     "name": "stdout",
     "output_type": "stream",
     "text": [
      "Hacktiv8-PTP Python For Data Science\n",
      "[100, 200, 300]\n",
      "arg = quux\n",
      "<__main__.Foo object at 0x000001FE769EE460>\n"
     ]
    }
   ],
   "source": [
    "s = \"Hacktiv8-PTP Python For Data Science\"\n",
    "a = [100, 200, 300]\n",
    "\n",
    "def foo(arg):\n",
    "    print(f'arg = {arg}')\n",
    "\n",
    "class Foo:\n",
    "    pass\n",
    "\n",
    "print(s)\n",
    "print(a)\n",
    "foo('quux')\n",
    "x = Foo()\n",
    "print(x)"
   ]
  },
  {
   "cell_type": "markdown",
   "id": "eaaba8c6",
   "metadata": {},
   "source": [
    "## Python Packages"
   ]
  },
  {
   "cell_type": "markdown",
   "id": "fb774225",
   "metadata": {},
   "source": [
    "Misalkan telah melakukan mengembangkan aplikasi yang sangat besar yang menyertakan banyak modul. Seiring bertambahnya jumlah modul, menjadi sulit untuk melacak semuanya jika dibuang ke satu lokasi. Ini terutama terjadi jika mereka memiliki nama atau fungsi yang serupa."
   ]
  },
  {
   "cell_type": "markdown",
   "id": "d70e7858",
   "metadata": {},
   "source": [
    "## Basic Package Installation"
   ]
  },
  {
   "cell_type": "markdown",
   "id": "b89da9fc",
   "metadata": {},
   "source": [
    "Langkah pertama adalah menginstal paket permintaan ke environment. Anda dapat mempelajari tentang perintah yang didukung pip dengan menjalankannya dengan bantuan:"
   ]
  },
  {
   "cell_type": "markdown",
   "id": "cc70fdea",
   "metadata": {},
   "source": [
    "`pip help`"
   ]
  },
  {
   "cell_type": "markdown",
   "id": "7845072d",
   "metadata": {},
   "source": [
    "pip menyediakan perintah install untuk menginstal paket. Maka dapat menjalankannya untuk menginstal requests package:"
   ]
  },
  {
   "cell_type": "markdown",
   "id": "36c3c39e",
   "metadata": {},
   "source": [
    "`pip install requests`"
   ]
  },
  {
   "cell_type": "markdown",
   "id": "c3a36d21",
   "metadata": {},
   "source": [
    "Memperbarui versi dengan pip upgrade"
   ]
  },
  {
   "cell_type": "markdown",
   "id": "54ce379b",
   "metadata": {},
   "source": [
    "`python -m pip install --upgrade pip`"
   ]
  },
  {
   "cell_type": "markdown",
   "id": "b7abf7d9",
   "metadata": {},
   "source": [
    "Sekarang setelah menginstal requests dan mengupgrade pip, Anda dapat menggunakan perintah list untuk melihat packages yang diinstal di environment:"
   ]
  },
  {
   "cell_type": "markdown",
   "id": "45b0aeb9",
   "metadata": {},
   "source": [
    "`pip list`"
   ]
  },
  {
   "cell_type": "markdown",
   "id": "884ec172",
   "metadata": {},
   "source": [
    "## Uninstalling Packages"
   ]
  },
  {
   "cell_type": "markdown",
   "id": "fc80f055",
   "metadata": {},
   "source": [
    "Sesekali, mungkin harus menghapus paket. Karena menemukan perpustakaan yang lebih baik untuk menggantikannya, atau itu adalah sesuatu yang sebenarnya tidak dibutuhkan.\n",
    "\n",
    "Sebelum menghapus sebuah packages, pastikan menjalankan perintah show untuk packages itu:"
   ]
  },
  {
   "cell_type": "markdown",
   "id": "2889a935",
   "metadata": {},
   "source": [
    "`pip show requests`"
   ]
  },
  {
   "cell_type": "markdown",
   "id": "6e9d323b",
   "metadata": {},
   "source": [
    "Harus menjalankan perintah show terhadap semua dependensi permintaan untuk memastikan bahwa tidak ada pustaka lain yang juga bergantung padanya. Setelah memahami urutan dependensi dari paket yang ingin dihapus, maka dapat menghapusnya menggunakan perintah uninstall:"
   ]
  },
  {
   "cell_type": "markdown",
   "id": "68287dee",
   "metadata": {},
   "source": [
    "`pip uninstall certifi`"
   ]
  },
  {
   "cell_type": "markdown",
   "id": "b31816bc",
   "metadata": {},
   "source": [
    "Menghapus instalan packages menunjukkan bahwa file yang akan dihapus dan akan meminta konfirmasi. Setelah yakin ingin menghapus packages karena telah diperiksa dependensinya dan mengetahui bahwa tidak ada lagi yang menggunakannya, maka dapat melewati tombol -y untuk menekan daftar file dan konfirmasi:"
   ]
  },
  {
   "cell_type": "markdown",
   "id": "278a02d9",
   "metadata": {},
   "source": [
    "`pip uninstall urllib3 -y`"
   ]
  }
 ],
 "metadata": {
  "kernelspec": {
   "display_name": "Python 3 (ipykernel)",
   "language": "python",
   "name": "python3"
  },
  "language_info": {
   "codemirror_mode": {
    "name": "ipython",
    "version": 3
   },
   "file_extension": ".py",
   "mimetype": "text/x-python",
   "name": "python",
   "nbconvert_exporter": "python",
   "pygments_lexer": "ipython3",
   "version": "3.9.12"
  }
 },
 "nbformat": 4,
 "nbformat_minor": 5
}
